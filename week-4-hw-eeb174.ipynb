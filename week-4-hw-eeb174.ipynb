{
 "cells": [
  {
   "cell_type": "code",
   "execution_count": 3,
   "metadata": {
    "collapsed": false
   },
   "outputs": [
    {
     "name": "stdout",
     "output_type": "stream",
     "text": [
      "tCTGtTCGtTTtCGTtTtGTtTTTGCTtTCtTtCtTtTtTtTCGtTGCGTTCtT\n",
      "TGACTAGCTAATGCATATCATAAACGATAGTATGTATATATAGCTACGCAAGTA\n"
     ]
    }
   ],
   "source": [
    "# Python4Biologists\n",
    "# Part 1\n",
    "# replacing bases (complement)\n",
    "DNA1 = \"ACTGATCGATTACGTATAGTATTTGCTATCATACATATATATCGATGCGTTCAT\"\n",
    "\n",
    "DNArep1 = DNA1.replace(\"A\", \"t\")\n",
    "print(DNArep1)\n",
    "DNArep2 = DNArep1.replace(\"T\", \"a\")\n",
    "DNArep3 = DNArep2.replace(\"C\", \"g\")\n",
    "DNArep4 = DNArep3.replace(\"G\", \"c\")\n",
    "print(DNArep4.upper())"
   ]
  },
  {
   "cell_type": "code",
   "execution_count": 4,
   "metadata": {
    "collapsed": false
   },
   "outputs": [
    {
     "name": "stdout",
     "output_type": "stream",
     "text": [
      "length of fragment1 is 22\n",
      "length of fragment2 is 33\n"
     ]
    }
   ],
   "source": [
    "# Restriction fragment lengths\n",
    "DNA2 = \"ACTGATCGATTACGTATAGTAGAATTCTATCATACATATATATCGATGCGTTCAT\"\n",
    "\n",
    "def restriction(seq):\n",
    "    fragment1 = (seq).find(\"GAATTC\") + 1\n",
    "    fragment2 = len(seq) - fragment1\n",
    "    print(\"length of fragment1 is \" + str(fragment1))\n",
    "    print(\"length of fragment2 is \" + str(fragment2))\n",
    "    \n",
    "restriction(DNA2)"
   ]
  },
  {
   "cell_type": "code",
   "execution_count": 5,
   "metadata": {
    "collapsed": false
   },
   "outputs": [
    {
     "name": "stdout",
     "output_type": "stream",
     "text": [
      "ATCGATCGATCGATCGACTGACTAGTCATAGCTATGCATGTAGCTACTCGATCGATCGATCGATCATCGATCGATATCGATGCATCGACTACTAT\n"
     ]
    }
   ],
   "source": [
    "# Splicing Out Introns Pt. 1\n",
    "DNA3 = \"ATCGATCGATCGATCGACTGACTAGTCATAGCTATGCATGTAGCTACTCGATCGATCGATCGATCGATCGATCGATCGATCGATCATGCTATCATCGATCGATATCGATGCATCGACTACTAT\"\n",
    "\n",
    "exon1 = DNA3[0:62]\n",
    "exon2 = DNA3[90:1000]\n",
    "print(exon1 + exon2)"
   ]
  },
  {
   "cell_type": "code",
   "execution_count": 6,
   "metadata": {
    "collapsed": false
   },
   "outputs": [
    {
     "name": "stdout",
     "output_type": "stream",
     "text": [
      "77.23577235772358\n"
     ]
    }
   ],
   "source": [
    "# Splicing Out Introns Pt. 2\n",
    "length_coding = len(exon1 + exon2)\n",
    "length_total = len(DNA3)\n",
    "print((length_coding/length_total)*100)"
   ]
  },
  {
   "cell_type": "code",
   "execution_count": 7,
   "metadata": {
    "collapsed": false
   },
   "outputs": [
    {
     "name": "stdout",
     "output_type": "stream",
     "text": [
      "ATCGATCGATCGATCGACTGACTAGTCATAGCTATGCATGTAGCTACTCGATCGATCGATCGatcgatcgatcgatcgatcgatcatgctATCATCGATCGATATCGATGCATCGACTACTAT\n"
     ]
    }
   ],
   "source": [
    "# Splicing Out Introns Pt. 3\n",
    "exon1 = DNA3[0:62]\n",
    "exon2 = DNA3[90:1000]\n",
    "intron = DNA3[62:90].lower()\n",
    "\n",
    "print(exon1 + intron + exon2)"
   ]
  },
  {
   "cell_type": "code",
   "execution_count": 8,
   "metadata": {
    "collapsed": false
   },
   "outputs": [
    {
     "name": "stdout",
     "output_type": "stream",
     "text": [
      "ATCGATCGATCGATCGACTGACTAGTCATAGCTATGCATGTAGCTACTCGATCGATCGATCGatcgatcgatcgatcgatcgatcatgctATCATCGATCGATATCGATGCATCGACTACTAT\n",
      "ATCGATCGATCGATCGACTGACTAGTCATAGCTATGCATGTAGCTACTCGATCGATCGATCGatcgatcgatcgatcgatcgatcatgctATCATCGATCGATATCGATGCATCGACTACTAT\n"
     ]
    }
   ],
   "source": [
    "# other options for Pt. 3\n",
    "print(exon1 + intron.lower() + exon2)\n",
    "print(DNA3[0:62] + DNA3[62:90].lower() + DNA3[90:1000])"
   ]
  },
  {
   "cell_type": "code",
   "execution_count": 10,
   "metadata": {
    "collapsed": false
   },
   "outputs": [],
   "source": [
    "# Part 2\n",
    "# Splitting genomic DNA\n",
    "DNA4 = open(\"genomic_dna.txt\")\n",
    "My_DNA = DNA4.read()"
   ]
  },
  {
   "cell_type": "code",
   "execution_count": 11,
   "metadata": {
    "collapsed": false
   },
   "outputs": [
    {
     "name": "stdout",
     "output_type": "stream",
     "text": [
      ">ABC123\n",
      "ATCGTACGATCGATCGATCGCTAGACGTATCG\n",
      ">DEF456\n",
      "actgatcgacgatcgatcgatcacgact\n",
      ">HIJ789\n",
      "ACTGAC-ACTGT--ACTGTA----CATGTG\n"
     ]
    }
   ],
   "source": [
    "# Writing a FASTA file\n",
    "head1 = \"ABC123\"\n",
    "head2 = \"DEF456\"\n",
    "head3 = \"HIJ789\"\n",
    "seq1 = \"ATCGTACGATCGATCGATCGCTAGACGTATCG\"\n",
    "seq2 = \"actgatcgacgatcgatcgatcacgact\"\n",
    "seq3 = \"ACTGAC-ACTGT--ACTGTA----CATGTG\"\n",
    "\n",
    "print(\">\" + head1 + \"\\n\" + seq1)\n",
    "print(\">\" + head2 + \"\\n\" + seq2)\n",
    "print(\">\" + head3 + \"\\n\" + seq3)"
   ]
  },
  {
   "cell_type": "code",
   "execution_count": 12,
   "metadata": {
    "collapsed": false
   },
   "outputs": [
    {
     "data": {
      "text/plain": [
       "32"
      ]
     },
     "execution_count": 12,
     "metadata": {},
     "output_type": "execute_result"
    }
   ],
   "source": [
    "# now to make a FASTA you have to switch from printed output to writing a file\n",
    "output = open(\"sequences.fasta\", \"w\") # what is the \"w\" for again?\n",
    "output.write(\">\" + head1 + \"\\n\" + seq1 + \"\\n\")\n",
    "output.write(\">\" + head2 + \"\\n\" + seq2.upper() + \"\\n\")\n",
    "output.write(\">\" + head3 + \"\\n\" + seq3.replace(\"-\", \"\") + \"\\n\")\n"
   ]
  },
  {
   "cell_type": "code",
   "execution_count": 13,
   "metadata": {
    "collapsed": false
   },
   "outputs": [
    {
     "data": {
      "text/plain": [
       "33"
      ]
     },
     "execution_count": 13,
     "metadata": {},
     "output_type": "execute_result"
    }
   ],
   "source": [
    "header_1 = \"ABC123\"\n",
    "header_2 = \"DEF456\"\n",
    "header_3 = \"HIJ789\"\n",
    "seq_1 = \"ATCGTACGATCGATCGATCGCTAGACGTATCG\" # values of all the sequence variables that were set\n",
    "seq_2 = \"actgatcgacgatcgatcgatcacgact\"\n",
    "seq_3 = \"ACTGAC-ACTGT—ACTGTA----CATGTG\"\n",
    "\n",
    "output = open(\"sequences.fasta\", \"w\") # this is to make a new file to hold the output\n",
    "output.write('>' + header_1 + '\\n' + seq_1 + '\\n') # header and sequence\n",
    "output.write('>' + header_2 + '\\n' + seq_2.upper() + '\\n') \n",
    "output.write('>' + header_3 + '\\n' + seq_3.replace('-', '') + '\\n') "
   ]
  },
  {
   "cell_type": "code",
   "execution_count": 15,
   "metadata": {
    "collapsed": false
   },
   "outputs": [
    {
     "name": "stdout",
     "output_type": "stream",
     "text": [
      "ATTCGATTATAAGCTCGATCGATCGATCGATCGATCGATCGATCGATCGATCGATC\n",
      "\n",
      "ATTCGATTATAAGCACTGATCGATCGATCGATCGATCGATGCTATCGTCGT\n",
      "\n",
      "ATTCGATTATAAGCATCGATCACGATCTATCGTACGTATGCATATCGATATCGATCGTAGTC\n",
      "\n",
      "ATTCGATTATAAGCACTATCGATGATCTAGCTACGATCGTAGCTGTA\n",
      "\n",
      "ATTCGATTATAAGCACTAGCTAGTCTCGATGCATGATCAGCTTAGCTGATGATGCTATGCA\n",
      "\n"
     ]
    }
   ],
   "source": [
    "# Part 3\n",
    "# Processing DNA in a file\n",
    "\n",
    "file = open(\"input.txt\") \n",
    "for DNA in file: \n",
    "    print(DNA) "
   ]
  },
  {
   "cell_type": "code",
   "execution_count": 16,
   "metadata": {
    "collapsed": false
   },
   "outputs": [
    {
     "name": "stdout",
     "output_type": "stream",
     "text": [
      "TCGATCGATCGATCGATCGATCGATCGATCGATCGATCGATC\n",
      "\n",
      "ACTGATCGATCGATCGATCGATCGATGCTATCGTCGT\n",
      "\n",
      "ATCGATCACGATCTATCGTACGTATGCATATCGATATCGATCGTAGTC\n",
      "\n",
      "ACTATCGATGATCTAGCTACGATCGTAGCTGTA\n",
      "\n",
      "ACTAGCTAGTCTCGATGCATGATCAGCTTAGCTGATGATGCTATGCA\n",
      "\n"
     ]
    }
   ],
   "source": [
    "# revised version of the previous code & the first 14 bases are taken out \n",
    "file = open(\"input.txt\") \n",
    "for DNA in file:\n",
    "    last_character_position = len(DNA)\n",
    "    trimmed_DNA = DNA[14:last_character_position] \n",
    "    print(trimmed_DNA) "
   ]
  },
  {
   "cell_type": "code",
   "execution_count": 18,
   "metadata": {
    "collapsed": true
   },
   "outputs": [],
   "source": [
    "file = open(\"input.txt\") \n",
    "output = open(\"trimmed.txt\", \"w\") \n",
    "for DNA in file: \n",
    "    last_character_position = len(DNA) \n",
    "    trimmed_DNA = DNA[14:last_character_position] \n",
    "    output.write(trimmed_DNA) \n",
    "    \n",
    "# It doesn't matter that the newlines weren't taken out because they turn out looking right when you open up the output file"
   ]
  },
  {
   "cell_type": "code",
   "execution_count": 20,
   "metadata": {
    "collapsed": false
   },
   "outputs": [
    {
     "name": "stdout",
     "output_type": "stream",
     "text": [
      "The processed sequence has a length of 43\n",
      "The processed sequence has a length of 38\n",
      "The processed sequence has a length of 49\n",
      "The processed sequence has a length of 34\n",
      "The processed sequence has a length of 48\n"
     ]
    }
   ],
   "source": [
    "file = open(\"input.txt\") \n",
    "output = open(\"trimmed.txt\", \"w\") # this opens the output file\n",
    "for DNA in file: # the loop so it goes through the file 1 line at a time\n",
    "    last_character_position = len(DNA) # this part calculates the position of the last character \n",
    "    trimmed_DNA = DNA[14:last_character_position] # this is to get the substring from the 15th character to the end \n",
    "    output.write(trimmed_DNA) \n",
    "    print(\"The processed sequence has a length of \" + str(len(trimmed_DNA))) # this prints it to the screen"
   ]
  },
  {
   "cell_type": "code",
   "execution_count": 25,
   "metadata": {
    "collapsed": false
   },
   "outputs": [
    {
     "name": "stdout",
     "output_type": "stream",
     "text": [
      "The start position is 5, the stop position is 58\n",
      "\n",
      "The start position is 72, the stop position is 133\n",
      "\n",
      "The start position is 190, the stop position is 276\n",
      "\n",
      "The start position is 340, the stop position is 398\n",
      "\n"
     ]
    }
   ],
   "source": [
    "# Multiple exons from genomic DNA\n",
    "exon_locations = open(\"exons.txt\") \n",
    "for section in exon_locations: \n",
    "    positions = section.split(',')\n",
    "    start = positions[0] # This assigns the 0th position to the \"start\" variable\n",
    "    stop = positions[1] # This assigns the 1th position to the \"stop\" variable\n",
    "    print(\"The start position is \" + start + \", the stop position is \" + stop)"
   ]
  },
  {
   "cell_type": "code",
   "execution_count": 29,
   "metadata": {
    "collapsed": false
   },
   "outputs": [],
   "source": [
    "genomic_dna_txt = open(\"genomic_dna.txt\").read() \n",
    "exon_locations = open(\"exons.txt\") \n",
    "full_coding_sequence = \"\" # this variable holds the full coding sequence of the other ones put together\n",
    "for section in exon_locations: \n",
    "    positions = section.split(',') # this splits the line using a comma \n",
    "    start = int(positions[0])\n",
    "    stop = int(positions[1])\n",
    "    exon = genomic_dna_txt[start:stop] # # extract the exon from the genomic dna \n",
    "    full_coding_sequence = full_coding_sequence + exon # this is to append the exon to the \"current\" exon sequences to make one long coding sequence\n",
    "    # print(\"The coding sequence is: \" + full_coding_sequence) # previously, it was (print(\"exon is: \" + exon)) to just print the exon\n",
    "output = open(\"coding_sequence.txt\", \"w\") \n",
    "output.write(full_coding_sequence) \n",
    "output.close() "
   ]
  },
  {
   "cell_type": "code",
   "execution_count": null,
   "metadata": {
    "collapsed": true
   },
   "outputs": [],
   "source": []
  }
 ],
 "metadata": {
  "anaconda-cloud": {},
  "kernelspec": {
   "display_name": "Python [conda root]",
   "language": "python",
   "name": "conda-root-py"
  },
  "language_info": {
   "codemirror_mode": {
    "name": "ipython",
    "version": 3
   },
   "file_extension": ".py",
   "mimetype": "text/x-python",
   "name": "python",
   "nbconvert_exporter": "python",
   "pygments_lexer": "ipython3",
   "version": "3.5.2"
  }
 },
 "nbformat": 4,
 "nbformat_minor": 2
}
