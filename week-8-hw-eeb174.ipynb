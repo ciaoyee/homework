{
 "cells": [
  {
   "cell_type": "markdown",
   "metadata": {},
   "source": [
    "# Part 1 : Canids Continued"
   ]
  },
  {
   "cell_type": "code",
   "execution_count": null,
   "metadata": {
    "collapsed": false
   },
   "outputs": [],
   "source": [
    "# 1 : Remove quotes\n",
    "infile = \"formatted.pbdb_data.csv\" # open file\n",
    "with open(infile, \"r\") as ff:\n",
    "    canid_recs = ff.readlines()\n",
    "\n",
    "from collections import defaultdict\n",
    "species_ranges = defaultdict(list)\n",
    "for line in canid_recs:\n",
    "    line = line.replace ('\"', '') \n",
    "    line = line.replace (\"'\", \"\") # removes both types of quotes\n",
    "    species = line.split(\",\")[5]\n",
    "    min_age = line.split(',')[10]\n",
    "    max_age = line.split(',')[11]\n",
    "    mean_age = float(min_age) + float(max_age)/2\n",
    "    species_ranges[species].append(mean_age)"
   ]
  },
  {
   "cell_type": "code",
   "execution_count": null,
   "metadata": {
    "collapsed": true
   },
   "outputs": [],
   "source": [
    "# 1a : Alphabetically sort\n",
    "sorted_species_list= sorted(species_ranges.keys())\n",
    "for key in sorted_species_list:\n",
    "    ages = species_ranges[key]\n",
    "    min_age = min(ages)\n",
    "    max_age = max(ages)\n",
    "    genus = key.split(\" \")[0]\n",
    "    species = key\n",
    "    alpha_output = \"{},{},{},{}\\n\".format(genus, species, min_age, max_age)\n",
    "    print(alpha_output)"
   ]
  },
  {
   "cell_type": "code",
   "execution_count": null,
   "metadata": {
    "collapsed": true
   },
   "outputs": [],
   "source": [
    "# 2 : Function 1\n",
    "def file_aof(filename):\n",
    "    species_ages = defaultdict(list)\n",
    "    file = open(file_name, \"r\")\n",
    "    name_records = file.readlines()\n",
    "    for line in name_records:\n",
    "        line = line.replace ('\"', '') \n",
    "        line = line.replace (\"'\", \"\") \n",
    "        taxon = line.split (\",\")\n",
    "        if taxon == \"species\":\n",
    "            species = line.split(\",\")[5]\n",
    "            min_age = line.split(\",\")[10]\n",
    "            max_age = line.split(\",\")[11]\n",
    "            mean_age = float(min_age) + float(max_age)/2\n",
    "            species_ranges[species].append(mean_age) \n",
    "        return (species_ages)"
   ]
  },
  {
   "cell_type": "code",
   "execution_count": null,
   "metadata": {
    "collapsed": true
   },
   "outputs": [],
   "source": [
    "# 3 : Function 2\n",
    "def fossil_age(dictname, output_name):\n",
    "    output = open(output_name + \".csv\", \"w\")\n",
    "    for key in dictnames.keys():\n",
    "        ages = dictnames[key]\n",
    "        minage = min(ages)\n",
    "        maxage = max(ages)\n",
    "        genus = key.split(\"','\")[0]\n",
    "        species = key.split(\"','\")\n",
    "        overview = \"{}, {}, {}, {}\\n\".format(genus, key, minage, maxage)\n",
    "        output.write(overview)\n",
    "    overview.close()"
   ]
  },
  {
   "cell_type": "code",
   "execution_count": null,
   "metadata": {
    "collapsed": true
   },
   "outputs": [],
   "source": [
    "# 4 : Function 3\n",
    "def foss_range(dict_name):\n",
    "    for key in dict_name():\n",
    "        ages = dict_name[key]\n",
    "        min_age = min(ages)\n",
    "        max_age = max(ages)\n",
    "        frange = max_age - min_age\n",
    "        frange.sort()\n",
    "    return (fossilrange)"
   ]
  }
 ],
 "metadata": {
  "kernelspec": {
   "display_name": "Python 3",
   "language": "python",
   "name": "python3"
  },
  "language_info": {
   "codemirror_mode": {
    "name": "ipython",
    "version": 3
   },
   "file_extension": ".py",
   "mimetype": "text/x-python",
   "name": "python",
   "nbconvert_exporter": "python",
   "pygments_lexer": "ipython3",
   "version": "3.6.0"
  }
 },
 "nbformat": 4,
 "nbformat_minor": 2
}
