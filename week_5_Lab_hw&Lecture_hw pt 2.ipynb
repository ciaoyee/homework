{
 "cells": [
  {
   "cell_type": "markdown",
   "metadata": {},
   "source": [
    "# Week 5 Lab Hw"
   ]
  },
  {
   "cell_type": "code",
   "execution_count": null,
   "metadata": {
    "collapsed": false
   },
   "outputs": [],
   "source": [
    "# Open the file\n",
    "DNAfile = open(\"Marra2014_data.fasta\", \"r\") # opening the marra file\n",
    "OutputSequenceFile = open(\"OutputSequenceFile.csv\", \"w\") # this is the new output file that the end results will be stored in\n",
    "contigDict = {} # empty dictionary\n",
    "import re # you have to import the regular expression library in order to use regular expression in python\n",
    "contigname = re.findall(\">(\\w*)\\s.*\", marrafile) # finding anything that starts w/ a \">\"\n",
    "marrafile = marrafile.replace(\"\\n\", \"\") # this is to replace the new line w/ a space\n",
    "marrafile1 = marrafile.replace(\">\", \"\\n\") # this is to replace the > with a new line\n",
    "\n",
    "cleaned_marra = open(\"cleaned_marra.txt\", \"w\")\n",
    "cleaned_marra.write(marrafile1)\n",
    "cleaned_marra = open(\"cleaned_marra.txt\") # where a new file was created so that that data that was cleaned in previous steps can be used in clean format for later use\n"
   ]
  },
  {
   "cell_type": "code",
   "execution_count": null,
   "metadata": {
    "collapsed": true
   },
   "outputs": [],
   "source": [
    "AATGcount = []\n",
    "for seq in cleaned_marra:\n",
    "    allcount = seq.count(\"AATG\")\n",
    "    AATGcount.append(allcount)\n",
    "    # for loop counts the number of AATG per line it reads\n",
    "    # but then things go back to the empty dictionary (contigDict)\n",
    "    \n",
    "# will fill dictionary w/ keys & values\n",
    "# keys = contigs, values = AATG count\n",
    "for variables in range(len(contig_name)):\n",
    "    contigDict[contig_name[variables]] = aatg_count[variables]\n",
    "contigDict"
   ]
  },
  {
   "cell_type": "code",
   "execution_count": null,
   "metadata": {
    "collapsed": true
   },
   "outputs": [],
   "source": [
    "for contig_output in contigDict:\n",
    "    OutputSequenceFile.write(str(contig_output) + \",\" + str(contigDict[contig_output]) + \"\\n\")\n",
    "    # This pushes the results from the for loops before to the new csv file that was opened before\n",
    "    \n",
    "OutputSequenceFile.close() # whenever you open something, you should close it again"
   ]
  },
  {
   "cell_type": "markdown",
   "metadata": {
    "collapsed": false
   },
   "source": [
    "# Lecture Hw pt. II\n",
    "##### Part I is already on github"
   ]
  },
  {
   "cell_type": "code",
   "execution_count": null,
   "metadata": {
    "collapsed": true
   },
   "outputs": [],
   "source": [
    "# 1\n",
    "Nature = open(\"formatted_nature.csv\", encoding = \"ISO-8859-1\") # import the file\n",
    "natureDict = {} # create empty dictionary\n",
    "i=0\n",
    "\n",
    "nature_reader = csv.reader(nature) # reads the file\n",
    "Nature.readline()\n",
    "Nature.readline()\n",
    "Nature.readline() # these three basically remove the 3 header lines b/c it reads the 3 header lines\n",
    "for row in nature_reader: \n",
    "    natureDict [row[0]]= row[2] # the loop makes the first column keys and third column values as the output\n",
    "\n",
    "for key, value in natureDict.items():\n",
    "    print (\"The species \" + key + \" belongs to Family \" + value) # this loop goes through the dictionary \n"
   ]
  },
  {
   "cell_type": "code",
   "execution_count": null,
   "metadata": {
    "collapsed": false
   },
   "outputs": [],
   "source": [
    "# 2 \n",
    "BirdDoc = open(\"formatted.eBird.csv\", encoding = \"ISO-8859-1\")\n",
    "import csv\n",
    "import sys # import the file\n",
    "birdDict = {} # create empty dictionary\n",
    "i=0\n",
    "\n",
    "birdreader = csv.reader(BirdDoc) # reads the file\n",
    "BirdDoc.readline()\n",
    "BirdDoc.readline()\n",
    "BirdDoc.readline() # these three basically remove the 3 header lines b/c it reads the 3 header lines\n",
    "for row in birdreader: \n",
    "    BirdDict [row[3]]= row[7] # the loop makes the first column keys and third column values as the output\n",
    "\n",
    "for key, value in BirdDict.items():\n",
    "    print (\"The species \" + key + \" belongs to Family \" + value)\n"
   ]
  },
  {
   "cell_type": "code",
   "execution_count": null,
   "metadata": {
    "collapsed": true
   },
   "outputs": [],
   "source": [
    "# 3\n",
    "from collections import Counter\n",
    "BirdCount= Counter(BirdDict.values())\n",
    "\n",
    "for key, value in BirdCount.items():\n",
    "    print (\"There are \" + str(value) + \" total species in the Family \" + str(key))"
   ]
  },
  {
   "cell_type": "markdown",
   "metadata": {},
   "source": [
    "# Lecture Hw pt. III"
   ]
  },
  {
   "cell_type": "code",
   "execution_count": 7,
   "metadata": {
    "collapsed": false
   },
   "outputs": [
    {
     "name": "stdout",
     "output_type": "stream",
     "text": [
      "10.0\n"
     ]
    }
   ],
   "source": [
    "# Percentage of amino acid residues, part one\n",
    "\n",
    "protein = \"MSRSLLLRFLLFLLLLPPLP\" # Defining my variables\n",
    "aa = \"R\"\n",
    "aa_count = protein.count(aa) # counting str protein\n",
    "protein_length = len(protein) # obtaining length\n",
    "percentage = aa_count * 100 / protein_length\n",
    "print(percentage)\n",
    "\n",
    "def get_aa_percentage(protein, aa):\n",
    "    protein = protein.upper() # This was an addition that makes the protein input upper case\n",
    "    aa = aa.upper() # This makes aa upper case\n",
    "    aa_count = protein.count(aa)\n",
    "    protein_length = len(protein)\n",
    "    percentage = aa_count * 100 / protein_length\n",
    "    return percentage\n",
    "\n",
    "# test the function with assertions\n",
    "#assert get_aa_percentage(\"MSRSLLLRFLLFLLLLPPLP\", \"M\") == 5\n",
    "#assert get_aa_percentage(\"MSRSLLLRFLLFLLLLPPLP\", \"r\") == 10\n",
    "#assert get_aa_percentage(\"msrslllrfllfllllpplp\", \"L\") == 50\n",
    "assert get_aa_percentage(\"MSRSLLLRFLLFLLLLPPLP\", \"Y\") == 0"
   ]
  },
  {
   "cell_type": "code",
   "execution_count": 9,
   "metadata": {
    "collapsed": true
   },
   "outputs": [],
   "source": [
    "# Percentage of amino acid residues, part two\n",
    "\n",
    "protein = \"MSRSLLLRFLLFLLLLPPLP\"\n",
    "aa_list = ['M', 'L', 'F']\n",
    "\n",
    "def get_aa_percentage(protein, aa_list=['A','I','L','M','F','W','Y','V']):\n",
    "    protein = protein.upper()\n",
    "    protein_length = len(protein)\n",
    "    total = 0\n",
    "    for aa in aa_list:\n",
    "        aa = aa.upper()\n",
    "        aa_count = protein.count(aa)\n",
    "        total = total + aa_count\n",
    "    percentage = total * 100 / protein_length\n",
    "    return percentage\n",
    "\n",
    "assert get_aa_percentage(\"MSRSLLLRFLLFLLLLPPLP\", \"M\") == 5\n",
    "assert get_aa_percentage(\"MSRSLLLRFLLFLLLLPPLP\", \"r\") == 10\n",
    "assert get_aa_percentage(\"msrslllrfllfllllpplp\", \"L\") == 50\n",
    "assert get_aa_percentage(\"MSRSLLLRFLLFLLLLPPLP\", \"Y\") == 0"
   ]
  },
  {
   "cell_type": "code",
   "execution_count": null,
   "metadata": {
    "collapsed": true
   },
   "outputs": [],
   "source": []
  }
 ],
 "metadata": {
  "kernelspec": {
   "display_name": "Python 3",
   "language": "python",
   "name": "python3"
  },
  "language_info": {
   "codemirror_mode": {
    "name": "ipython",
    "version": 3
   },
   "file_extension": ".py",
   "mimetype": "text/x-python",
   "name": "python",
   "nbconvert_exporter": "python",
   "pygments_lexer": "ipython3",
   "version": "3.6.0"
  }
 },
 "nbformat": 4,
 "nbformat_minor": 2
}
