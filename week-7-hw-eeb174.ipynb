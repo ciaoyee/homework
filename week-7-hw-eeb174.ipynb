{
 "cells": [
  {
   "cell_type": "markdown",
   "metadata": {},
   "source": [
    "# My Favorite Fish\n",
    "\n",
    "   ### 1. Osteoglossum bicirrhosum\n",
    "       Family: Osteoglossidae\n",
    "       Max length: 90 cm\n",
    "   ### 2.  Synchiropus splendidus\n",
    "       Family: Callionymidae\n",
    "       Max length: 6 cm\n",
    "   ### 3. Centropyge loriculus\n",
    "       Family: Pomacanthidae\n",
    "       Max length: 15 cm\n",
    "   ### 4. Scarus guacamaia\n",
    "       Family: Scaridae\n",
    "       Max length: 120 cm\n",
    "   ### 5. Variola louti\n",
    "       Family: Serranidae\n",
    "       Max length: 83 cm"
   ]
  },
  {
   "cell_type": "markdown",
   "metadata": {
    "collapsed": true
   },
   "source": [
    "# Notes on Web Scraping"
   ]
  },
  {
   "cell_type": "code",
   "execution_count": null,
   "metadata": {
    "collapsed": true
   },
   "outputs": [],
   "source": [
    "#making markdown file of favorite fish and descriptors with multiple fish\n",
    "import urllib.request\n",
    "import json\n",
    "\n",
    "fishoutput = open (\"Users/yeechau/Downloads/homework/fishoutput.md\", \"w\")\n",
    "#markdown file to write to\n",
    " \n",
    "#apis of urls of fish\n",
    "api_url1 = \"https://fishbase.ropensci.org/species/?genus=Osteoglossum&species=bicirrhosum\"\n",
    "api_url2 = \"https://fishbase.ropensci.org/species/?genus=Synchiropus&species=splendidus\"\n",
    "\n",
    "#opening\n",
    "raw_json1 = urllib.request.urlopen(\"https://fishbase.ropensci.org/species/?genus=Lophius&species=piscatorius\")\n",
    "raw_json2 = urllib.request.urlopen(\"https://fishbase.ropensci.org/species/?genus=Pygoplites&species=diacanthus\")\n",
    "\n",
    "\n",
    "decoded_json1 = raw_json1.read().decode(\"utf-8\")\n",
    "decoded_json2 = raw_json2.read().decode(\"utf-8\")\n",
    "\n",
    "parsed_json1 = json.loads(decoded_json1)\n",
    "parsed_json2 = json.loads(decoded_json2)\n",
    "\n",
    "raw_json1.close()\n",
    "raw_json2.close()\n",
    "\n",
    "all_parsed_jsons = [parsed_json1, parsed_json2, parsed_json3] #list of dictionaries \n",
    "\n",
    "fishoutput.write(\"# My Favorite Fish: \\n\")\n",
    "\n",
    "for json in all_parsed_jsons:\n",
    "    fishoutput.write(\"##\"+\" \"+json[\"data\"][0][\"Genus\"]+\" \"+json[\"data\"][0][\"Species\"]+\"\\n\") #scientific name\n",
    "    fishoutput.write(\"Weight: \"+str(json[\"data\"][0][\"Weight\"])+\"<br>\"+\"\\n\") #weight of fish\n",
    "    fishoutput.write(\"Length: \"+str(json[\"data\"][0][\"Length\"])+\"<br>\"+\"\\n\") #length of fish\n",
    "    \n",
    "fishoutput.close()"
   ]
  }
 ],
 "metadata": {
  "kernelspec": {
   "display_name": "Python 3",
   "language": "python",
   "name": "python3"
  },
  "language_info": {
   "codemirror_mode": {
    "name": "ipython",
    "version": 3
   },
   "file_extension": ".py",
   "mimetype": "text/x-python",
   "name": "python",
   "nbconvert_exporter": "python",
   "pygments_lexer": "ipython3",
   "version": "3.6.0"
  }
 },
 "nbformat": 4,
 "nbformat_minor": 2
}
