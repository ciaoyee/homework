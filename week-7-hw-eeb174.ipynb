{
 "cells": [
  {
   "cell_type": "markdown",
   "metadata": {},
   "source": [
    "# My Favorite Fish\n",
    "\n",
    "   ### 1. Osteoglossum bicirrhosum\n",
    "       Family: Osteoglossidae\n",
    "       Max length: 90 cm\n",
    "   ### 2.  Synchiropus splendidus\n",
    "       Family: Callionymidae\n",
    "       Max length: 6 cm\n",
    "   ### 3. Centropyge loriculus\n",
    "       Family: Pomacanthidae\n",
    "       Max length: 15 cm\n",
    "   ### 4. Scarus guacamaia\n",
    "       Family: Scaridae\n",
    "       Max length: 120 cm\n",
    "   ### 5. Variola louti\n",
    "       Family: Serranidae\n",
    "       Max length: 83 cm"
   ]
  },
  {
   "cell_type": "code",
   "execution_count": null,
   "metadata": {
    "collapsed": true
   },
   "outputs": [],
   "source": []
  }
 ],
 "metadata": {
  "kernelspec": {
   "display_name": "Python 3",
   "language": "python",
   "name": "python3"
  },
  "language_info": {
   "codemirror_mode": {
    "name": "ipython",
    "version": 3
   },
   "file_extension": ".py",
   "mimetype": "text/x-python",
   "name": "python",
   "nbconvert_exporter": "python",
   "pygments_lexer": "ipython3",
   "version": "3.6.0"
  }
 },
 "nbformat": 4,
 "nbformat_minor": 2
}
