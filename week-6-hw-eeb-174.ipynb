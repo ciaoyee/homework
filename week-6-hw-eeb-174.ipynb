{
 "cells": [
  {
   "cell_type": "markdown",
   "metadata": {},
   "source": [
    "# Part I.\n",
    "### Badges"
   ]
  },
  {
   "cell_type": "markdown",
   "metadata": {},
   "source": [
    "# Functions & Loops & Practice makes perfect\n",
    "![badge1](/Users/yeechau/Desktop/Functions_&_Loops_&_Practice_makes_perfect.png)\n",
    "\n",
    "# Lists and Functions\n",
    "![badge1](/Users/yeechau/Desktop/Lists_and_functions.png)\n",
    "\n",
    "# Conditionals and Control Flow & Python Lists and Dictionaries\n",
    "![badge1](/Users/yeechau/Desktop/Conditionals_and_Control_flow_&_Python_Lists_and_Dictionaries.png)\n",
    "\n",
    "# Python Syntax & Strings and Console Output\n",
    "![badge1](/Users/yeechau/Desktop/Python_Syntax_&_Strings_and_Console_Output.png)"
   ]
  },
  {
   "cell_type": "markdown",
   "metadata": {},
   "source": [
    "# Part II. Python for Biologists"
   ]
  },
  {
   "cell_type": "markdown",
   "metadata": {},
   "source": [
    "##### Chapter 8 pg 194\n",
    "\n",
    "Pseudocode:  \n",
    "\n",
    "Split the DNA into codons (triplets)(so they can be translated into the corresponding proteins)\n",
    "Make a for loop to loop over range of codons through a dictionary (codons as keys & proteins as values)\n",
    "Define function to take DNA sequence & return protein sequence\n"
   ]
  },
  {
   "cell_type": "code",
   "execution_count": null,
   "metadata": {
    "collapsed": false
   },
   "outputs": [],
   "source": [
    "# dictionary w/ genetic code\n",
    "gencode = {\n",
    "'ATA':'I', 'ATC':'I', 'ATT':'I', 'ATG':'M',\n",
    "'ACA':'T', 'ACC':'T', 'ACG':'T', 'ACT':'T',\n",
    "'AAC':'N', 'AAT':'N', 'AAA':'K', 'AAG':'K',\n",
    "'AGC':'S', 'AGT':'S', 'AGA':'R', 'AGG':'R',\n",
    "'CTA':'L', 'CTC':'L', 'CTG':'L', 'CTT':'L',\n",
    "'CCA':'P', 'CCC':'P', 'CCG':'P', 'CCT':'P',\n",
    "'CAC':'H', 'CAT':'H', 'CAA':'Q', 'CAG':'Q',\n",
    "'CGA':'R', 'CGC':'R', 'CGG':'R', 'CGT':'R',\n",
    "'GTA':'V', 'GTC':'V', 'GTG':'V', 'GTT':'V',\n",
    "'GCA':'A', 'GCC':'A', 'GCG':'A', 'GCT':'A',\n",
    "'GAC':'D', 'GAT':'D', 'GAA':'E', 'GAG':'E',\n",
    "'GGA':'G', 'GGC':'G', 'GGG':'G', 'GGT':'G',\n",
    "'TCA':'S', 'TCC':'S', 'TCG':'S', 'TCT':'S',\n",
    "'TTC':'F', 'TTT':'F', 'TTA':'L', 'TTG':'L',\n",
    "'TAC':'Y', 'TAT':'Y', 'TAA':'_', 'TAG':'_',\n",
    "'TGC':'C', 'TGT':'C', 'TGA':'_', 'TGG':'W'} \n",
    "\n",
    "def translate_dna(dna): \n",
    "    last_codon_start = len(dna) - 2 # the start of the last codon is the 3rd to last character in string (length of dna -2)\n",
    "    protein = \"\" # empty string (not populated yet )\n",
    "    for start in range(0,last_codon_start,3): # this will loop over every 3rd nuc\n",
    "        codon = dna[start:start+3] # this defines codon as a 3 nuc seq\n",
    "        aa = gencode.get(codon.upper(), 'X') # grabs from dictionary & if it can't translate --> replace with X\n",
    "        protein = protein + aa \n",
    "    return protein\n",
    "\n",
    "print(translate_dna(\"ATGTTCGGT\"))\n",
    "print(translate_dna(\"ATCGATCGATCGTTGCTTATCGATCAG\"))\n",
    "print(translate_dna(\"actgatcgtagctagctgacgtatcgtat\"))\n",
    "print(translate_dna(\"ACGATCGATCGTNACGTACGATCGTACTCG\"))"
   ]
  },
  {
   "cell_type": "markdown",
   "metadata": {},
   "source": [
    "# Part III. Allesina and Wilmes"
   ]
  },
  {
   "cell_type": "code",
   "execution_count": null,
   "metadata": {
    "collapsed": false
   },
   "outputs": [],
   "source": [
    "# Write the simulation program described in section 4.3.2 starting on page 93\n",
    "\n",
    "import scipy # this is for random numbers\n",
    "def build_population(N, p):\n",
    "    population = [] #The population consists of N individuals. Each individual has two chromosomes, containing allele \"A\" or \"a\", with probability p and 1-p, respectively, the pop is a list of tuples.\n",
    "    for i in range(N):\n",
    "        allele1 = \"A\"\n",
    "        if scipy.random.rand() > p:\n",
    "            allele1 = \"a\"\n",
    "            allele2 = \"A\"\n",
    "        if scipy.random.rand() > p:\n",
    "            allele2 = \"a\"\n",
    "        population.append((allele1, allele2))\n",
    "    return population\n",
    "\n",
    "#count genotypes and return dictionary with counts of genotypes\n",
    "def compute_frequencies(population):\n",
    "    AA = population.count(('A', 'A'))\n",
    "    Aa = population.count(('A', 'a'))\n",
    "    aA = population.count(('a', 'A'))\n",
    "    aa = population.count(('a', 'a'))\n",
    "    return({'AA': AA,'aa': aa,'Aa': Aa,'aA': aA})\n",
    "\n"
   ]
  },
  {
   "cell_type": "code",
   "execution_count": null,
   "metadata": {
    "collapsed": true
   },
   "outputs": [],
   "source": [
    "my_pop = build_population(6, 0.5)\n",
    "my_pop"
   ]
  },
  {
   "cell_type": "code",
   "execution_count": null,
   "metadata": {
    "collapsed": true
   },
   "outputs": [],
   "source": [
    "compute_frequencies(my_pop)"
   ]
  },
  {
   "cell_type": "code",
   "execution_count": null,
   "metadata": {
    "collapsed": true
   },
   "outputs": [],
   "source": [
    "def reproduce_population(population): # Chooses the parents at random, the offspring receives a chromosomes from each of the parents\n",
    "    new_generation = []\n",
    "    N = len(population)\n",
    "    for i in range(N):\n",
    "        dad = scipy.random.randint(N) # random integer between 0 and N-1\n",
    "        mom = scipy.random.randint(N)\n",
    "        chr_mom = scipy.random.randint(2) # which chromosome comes from mom\n",
    "        offspring = (population[mom][chr_mom], population[dad][1 - chr_mom])\n",
    "        new_generation.append(offspring)\n",
    "        return(new_generation)"
   ]
  },
  {
   "cell_type": "code",
   "execution_count": null,
   "metadata": {
    "collapsed": true
   },
   "outputs": [],
   "source": [
    "reproduce_population(my_pop)"
   ]
  },
  {
   "cell_type": "code",
   "execution_count": null,
   "metadata": {
    "collapsed": false
   },
   "outputs": [],
   "source": [
    "def simulate_drift(N, p):\n",
    "    # initialize the population\n",
    "    my_pop = build_population(N, p)\n",
    "    fixation = False\n",
    "    num_generations = 0\n",
    "    while fixation == False:\n",
    "        # compute genotype counts\n",
    "        genotype_counts = compute_frequencies(my_pop)\n",
    "        # if one allele went to fixation, end the simulation\n",
    "        if genotype_counts['AA'] == N or genotype_counts['aa'] == N:\n",
    "            print('An allele reached fixation at generation', num_generations)\n",
    "            print('The genotype counts are')\n",
    "            print(genotype_counts)\n",
    "            fixation == True\n",
    "            break\n",
    "            # if not, reproduce\n",
    "        my_pop = reproduce_population(my_pop)\n",
    "        num_generations = num_generations + 1\n",
    "        \n",
    "simulate_drift(100, 0.5)\n",
    "simulate_drift(100, 0.9)"
   ]
  },
  {
   "cell_type": "code",
   "execution_count": null,
   "metadata": {
    "collapsed": true
   },
   "outputs": [],
   "source": [
    "# 2) 4.9.1 Part 1\n",
    "\n",
    "import re\n",
    "def calc_mean_r(Taxon):\n",
    "    data_file=open(\"Jiang2013_data.csv\").readlines()\n",
    "    r = 0\n",
    "    num = 0\n",
    "    for line in data_file:\n",
    "        # make the lines into lists\n",
    "        lsts=line.split(\"\\t\") \n",
    "        if (len(lsts) > 1) and (lsts[1] == taxon):\n",
    "            r = r + float(line.split('\\t')[3])\n",
    "            num = num + 1\n",
    "    r= r / num\n",
    "    return r\n",
    "calc_mean_r(\"Insect\")"
   ]
  }
 ],
 "metadata": {
  "kernelspec": {
   "display_name": "Python 3",
   "language": "python",
   "name": "python3"
  },
  "language_info": {
   "codemirror_mode": {
    "name": "ipython",
    "version": 3
   },
   "file_extension": ".py",
   "mimetype": "text/x-python",
   "name": "python",
   "nbconvert_exporter": "python",
   "pygments_lexer": "ipython3",
   "version": "3.6.0"
  }
 },
 "nbformat": 4,
 "nbformat_minor": 2
}
