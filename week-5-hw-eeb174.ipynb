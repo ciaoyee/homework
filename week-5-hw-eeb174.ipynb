{
 "cells": [
  {
   "cell_type": "markdown",
   "metadata": {},
   "source": [
    "## Part 1: In Class Challenge Continue, the shell"
   ]
  },
  {
   "cell_type": "markdown",
   "metadata": {},
   "source": [
    "cat eBird_Taxonomy_v2016_9Aug2016.csv | tr \"r\" \"n\" > formatted_nature\n",
    "\n",
    "1 How many families are in this file?\n",
    "\n",
    "    195 Families\n",
    "    (used: tail n+3 formatted_nature.csv | cut -d \",\" -f 3 | sort | uniq | wc -l)     \n",
    "    \n",
    "    \n",
    "2 Which family has the most species represented?\n",
    "    \n",
    "    Trochilidae, with 102 species\n",
    "    (used: tail n+3 formatted_nature.csv | cut -d \",\" -f 3 | sort | uniq -c | wc -l)       \n",
    "    \n",
    "    \n",
    "3 How many families have only a single species in them?\n",
    "\n",
    "    61 only have 1 species\n",
    "    (used: tail n+3 formatted_nature.csv | cut -d \",\" -f 3 | sort -n | grep \"1\" -c -w) \n",
    "    (or it's possible to use the: tail n+3 formatted_nature.csv | cut -d \",\" -f 3 | sort | uniq -c | sort -n | grep -w \"1\" | wc -l ???)       \n",
    "     \n",
    "     \n",
    "4 How many families are present in the eBird data?\n",
    "    \n",
    "    239 families are present\n",
    "    (used: tail n+2 formatted_nature.csv | cut -d \",\" -f 8 | sort | uniq | wc -l)       \n",
    "    \n",
    "    \n",
    "5 How many species are in each family of the eBird data?\n",
    "\n",
    "    (used: tail n+2 formatted_nature.csv | cut -d \",\" -f 8 | sort | uniq -c) --> prints out all of the family names with the number of species in each one on the left  "
   ]
  },
  {
   "cell_type": "markdown",
   "metadata": {},
   "source": [
    "## Part 2 \n"
   ]
  },
  {
   "cell_type": "code",
   "execution_count": 2,
   "metadata": {
    "collapsed": true
   },
   "outputs": [],
   "source": [
    "nature = csv.reader(open(\"/home/eeb177-student/Desktop/eeb-177/homework/formatted_nature.csv\", encoding = \"ISO-8859-1\"))\n",
    "import csv\n",
    "\n",
    "fnDict = {}\n",
    "for row in nature:\n",
    "    fnDict"
   ]
  },
  {
   "cell_type": "code",
   "execution_count": null,
   "metadata": {
    "collapsed": true
   },
   "outputs": [],
   "source": []
  },
  {
   "cell_type": "code",
   "execution_count": null,
   "metadata": {
    "collapsed": true
   },
   "outputs": [],
   "source": []
  },
  {
   "cell_type": "code",
   "execution_count": null,
   "metadata": {
    "collapsed": true
   },
   "outputs": [],
   "source": []
  }
 ],
 "metadata": {
  "anaconda-cloud": {},
  "kernelspec": {
   "display_name": "Python [conda root]",
   "language": "python",
   "name": "conda-root-py"
  },
  "language_info": {
   "codemirror_mode": {
    "name": "ipython",
    "version": 3
   },
   "file_extension": ".py",
   "mimetype": "text/x-python",
   "name": "python",
   "nbconvert_exporter": "python",
   "pygments_lexer": "ipython3",
   "version": "3.5.2"
  }
 },
 "nbformat": 4,
 "nbformat_minor": 2
}
